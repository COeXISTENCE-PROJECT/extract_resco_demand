{
 "cells": [
  {
   "cell_type": "code",
   "execution_count": 1,
   "metadata": {},
   "outputs": [],
   "source": [
    "import xml.etree.ElementTree as ET\n",
    "import pandas as pd\n",
    "import janux as jx\n",
    "import networkx as nx"
   ]
  },
  {
   "cell_type": "code",
   "execution_count": 2,
   "metadata": {},
   "outputs": [],
   "source": [
    "def parse_trips(xml_file):\n",
    "    tree = ET.parse(xml_file)\n",
    "    root = tree.getroot()\n",
    "\n",
    "    trips_data = []\n",
    "    \n",
    "    for trip in root.findall(\"trip\"):\n",
    "        trip_info = trip.attrib\n",
    "        trips_data.append(trip_info)\n",
    "\n",
    "    return pd.DataFrame(trips_data)"
   ]
  },
  {
   "cell_type": "code",
   "execution_count": 3,
   "metadata": {},
   "outputs": [],
   "source": [
    "xml_file_path = \"cologne8.rou.xml\"\n",
    "df = parse_trips(xml_file_path)"
   ]
  },
  {
   "cell_type": "code",
   "execution_count": 4,
   "metadata": {},
   "outputs": [
    {
     "data": {
      "application/vnd.microsoft.datawrangler.viewer.v0+json": {
       "columns": [
        {
         "name": "index",
         "rawType": "int64",
         "type": "integer"
        },
        {
         "name": "id",
         "rawType": "object",
         "type": "string"
        },
        {
         "name": "type",
         "rawType": "object",
         "type": "string"
        },
        {
         "name": "depart",
         "rawType": "object",
         "type": "string"
        },
        {
         "name": "from",
         "rawType": "object",
         "type": "string"
        },
        {
         "name": "to",
         "rawType": "object",
         "type": "string"
        }
       ],
       "conversionMethod": "pd.DataFrame",
       "ref": "9b5e962a-c7fd-41d8-87e2-82d43fbdd1ce",
       "rows": [
        [
         "147",
         "162709_422_0",
         "pkw",
         "25501.00",
         "28675510#1",
         "42925825#0"
        ],
        [
         "1192",
         "199442_437_0",
         "pkw",
         "27073.00",
         "-4936412",
         "8716827#0"
        ],
        [
         "463",
         "188336_433_0",
         "pkw",
         "25981.00",
         "-186623965#18",
         "-186623965#14"
        ],
        [
         "983",
         "149128_417_0",
         "pkw",
         "26719.00",
         "186623965#9",
         "42925825#0"
        ],
        [
         "442",
         "146521_416_0",
         "pkw",
         "25953.00",
         "-186623965#18",
         "-186623965#14"
        ],
        [
         "252",
         "192710_435_0",
         "pkw",
         "25679.00",
         "22959550#0",
         "297047309#0"
        ],
        [
         "320",
         "136072_411_0",
         "pkw",
         "25779.00",
         "-186623965#18",
         "-186623965#14"
        ],
        [
         "31",
         "155353_420_0",
         "pkw",
         "25234.00",
         "22917421#3",
         "186623965#17"
        ],
        [
         "2031",
         "252335_457_0",
         "pkw",
         "28763.00",
         "8716807#1",
         "-186623965#14"
        ],
        [
         "1028",
         "188680_434_0",
         "pkw",
         "26819.00",
         "-23283579#1",
         "4936412"
        ]
       ],
       "shape": {
        "columns": 5,
        "rows": 10
       }
      },
      "text/html": [
       "<div>\n",
       "<style scoped>\n",
       "    .dataframe tbody tr th:only-of-type {\n",
       "        vertical-align: middle;\n",
       "    }\n",
       "\n",
       "    .dataframe tbody tr th {\n",
       "        vertical-align: top;\n",
       "    }\n",
       "\n",
       "    .dataframe thead th {\n",
       "        text-align: right;\n",
       "    }\n",
       "</style>\n",
       "<table border=\"1\" class=\"dataframe\">\n",
       "  <thead>\n",
       "    <tr style=\"text-align: right;\">\n",
       "      <th></th>\n",
       "      <th>id</th>\n",
       "      <th>type</th>\n",
       "      <th>depart</th>\n",
       "      <th>from</th>\n",
       "      <th>to</th>\n",
       "    </tr>\n",
       "  </thead>\n",
       "  <tbody>\n",
       "    <tr>\n",
       "      <th>147</th>\n",
       "      <td>162709_422_0</td>\n",
       "      <td>pkw</td>\n",
       "      <td>25501.00</td>\n",
       "      <td>28675510#1</td>\n",
       "      <td>42925825#0</td>\n",
       "    </tr>\n",
       "    <tr>\n",
       "      <th>1192</th>\n",
       "      <td>199442_437_0</td>\n",
       "      <td>pkw</td>\n",
       "      <td>27073.00</td>\n",
       "      <td>-4936412</td>\n",
       "      <td>8716827#0</td>\n",
       "    </tr>\n",
       "    <tr>\n",
       "      <th>463</th>\n",
       "      <td>188336_433_0</td>\n",
       "      <td>pkw</td>\n",
       "      <td>25981.00</td>\n",
       "      <td>-186623965#18</td>\n",
       "      <td>-186623965#14</td>\n",
       "    </tr>\n",
       "    <tr>\n",
       "      <th>983</th>\n",
       "      <td>149128_417_0</td>\n",
       "      <td>pkw</td>\n",
       "      <td>26719.00</td>\n",
       "      <td>186623965#9</td>\n",
       "      <td>42925825#0</td>\n",
       "    </tr>\n",
       "    <tr>\n",
       "      <th>442</th>\n",
       "      <td>146521_416_0</td>\n",
       "      <td>pkw</td>\n",
       "      <td>25953.00</td>\n",
       "      <td>-186623965#18</td>\n",
       "      <td>-186623965#14</td>\n",
       "    </tr>\n",
       "    <tr>\n",
       "      <th>252</th>\n",
       "      <td>192710_435_0</td>\n",
       "      <td>pkw</td>\n",
       "      <td>25679.00</td>\n",
       "      <td>22959550#0</td>\n",
       "      <td>297047309#0</td>\n",
       "    </tr>\n",
       "    <tr>\n",
       "      <th>320</th>\n",
       "      <td>136072_411_0</td>\n",
       "      <td>pkw</td>\n",
       "      <td>25779.00</td>\n",
       "      <td>-186623965#18</td>\n",
       "      <td>-186623965#14</td>\n",
       "    </tr>\n",
       "    <tr>\n",
       "      <th>31</th>\n",
       "      <td>155353_420_0</td>\n",
       "      <td>pkw</td>\n",
       "      <td>25234.00</td>\n",
       "      <td>22917421#3</td>\n",
       "      <td>186623965#17</td>\n",
       "    </tr>\n",
       "    <tr>\n",
       "      <th>2031</th>\n",
       "      <td>252335_457_0</td>\n",
       "      <td>pkw</td>\n",
       "      <td>28763.00</td>\n",
       "      <td>8716807#1</td>\n",
       "      <td>-186623965#14</td>\n",
       "    </tr>\n",
       "    <tr>\n",
       "      <th>1028</th>\n",
       "      <td>188680_434_0</td>\n",
       "      <td>pkw</td>\n",
       "      <td>26819.00</td>\n",
       "      <td>-23283579#1</td>\n",
       "      <td>4936412</td>\n",
       "    </tr>\n",
       "  </tbody>\n",
       "</table>\n",
       "</div>"
      ],
      "text/plain": [
       "                id type    depart           from             to\n",
       "147   162709_422_0  pkw  25501.00     28675510#1     42925825#0\n",
       "1192  199442_437_0  pkw  27073.00       -4936412      8716827#0\n",
       "463   188336_433_0  pkw  25981.00  -186623965#18  -186623965#14\n",
       "983   149128_417_0  pkw  26719.00    186623965#9     42925825#0\n",
       "442   146521_416_0  pkw  25953.00  -186623965#18  -186623965#14\n",
       "252   192710_435_0  pkw  25679.00     22959550#0    297047309#0\n",
       "320   136072_411_0  pkw  25779.00  -186623965#18  -186623965#14\n",
       "31    155353_420_0  pkw  25234.00     22917421#3   186623965#17\n",
       "2031  252335_457_0  pkw  28763.00      8716807#1  -186623965#14\n",
       "1028  188680_434_0  pkw  26819.00    -23283579#1        4936412"
      ]
     },
     "execution_count": 4,
     "metadata": {},
     "output_type": "execute_result"
    }
   ],
   "source": [
    "df.sample(10)"
   ]
  },
  {
   "cell_type": "code",
   "execution_count": 5,
   "metadata": {},
   "outputs": [],
   "source": [
    "df[\"depart\"] = df[\"depart\"].astype(float)\n",
    "df[\"depart\"] = df[\"depart\"].astype(int)\n",
    "df[\"depart\"] = df[\"depart\"] - min(df[\"depart\"])\n",
    "df[\"id\"] = df.index\n",
    "df[\"kind\"] = \"Human\"\n",
    "df.rename(columns={\"depart\": \"start_time\"}, inplace=True)\n",
    "df.rename(columns={\"from\": \"origin\"}, inplace=True)\n",
    "df.rename(columns={\"to\": \"destination\"}, inplace=True)\n",
    "df.drop(columns=[\"type\"], inplace=True)\n"
   ]
  },
  {
   "cell_type": "code",
   "execution_count": 6,
   "metadata": {},
   "outputs": [],
   "source": [
    "network = jx.build_digraph(\"cologne.con.xml\", \"cologne.edg.xml\", \"cologne.rou.xml\")"
   ]
  },
  {
   "cell_type": "code",
   "execution_count": 7,
   "metadata": {},
   "outputs": [],
   "source": [
    "origins, destinations = df[\"origin\"].unique(), df[\"destination\"].unique()\n",
    "bad_origins, bad_destinations = [\"-194017408#1\", \"194017408#0\", \"-25168493\", \"25168493\", \"28675510#7\", \"-28675510#11\"], [\"-194017408#1\", \"194017408#0\", \"-25168493\", \"25168493\", \"28675510#7\", \"-28675510#11\"]\n",
    "\n",
    "for o, d in zip(origins, destinations):\n",
    "    if not nx.has_path(network, o, d):\n",
    "        bad_origins.append(o)\n",
    "        bad_destinations.append(d)\n",
    "\n",
    "for idx, row in df.iterrows():\n",
    "    if row[\"origin\"] in bad_origins or row[\"destination\"] in bad_destinations:\n",
    "        df.drop(idx, inplace=True)"
   ]
  },
  {
   "cell_type": "code",
   "execution_count": 8,
   "metadata": {},
   "outputs": [
    {
     "data": {
      "text/plain": [
       "''"
      ]
     },
     "execution_count": 8,
     "metadata": {},
     "output_type": "execute_result"
    }
   ],
   "source": [
    "\"\"\"\n",
    "origins, destinations = df[\"origin\"].unique(), df[\"destination\"].unique()\n",
    "bad_ods = []\n",
    "\n",
    "for o, d in zip(origins, destinations):\n",
    "    if not len(list(nx.all_simple_paths(network, o, d))) >= 3:\n",
    "        bad_ods.append((o, d))\n",
    "        \n",
    "for idx, row in df.iterrows():\n",
    "    if (row[\"origin\"], row[\"destination\"]) in bad_ods:\n",
    "        df.drop(idx, inplace=True)\n",
    "\"\"\"\n",
    ";"
   ]
  },
  {
   "cell_type": "code",
   "execution_count": 9,
   "metadata": {},
   "outputs": [],
   "source": [
    "origin_indices = {origin_name : idx for idx, origin_name in enumerate(df[\"origin\"].unique())}\n",
    "destination_indices = {destination_name : idx for idx, destination_name in enumerate(df[\"destination\"].unique())}\n",
    "\n",
    "origin_names = {value: key for key, value in origin_indices.items()}\n",
    "destination_names = {value: key for key, value in destination_indices.items()}\n",
    "\n",
    "for idx, row in df.iterrows():\n",
    "    df.at[idx, \"origin\"] = origin_indices[row[\"origin\"]]\n",
    "    df.at[idx, \"destination\"] = destination_indices[row[\"destination\"]]"
   ]
  },
  {
   "cell_type": "code",
   "execution_count": 10,
   "metadata": {},
   "outputs": [
    {
     "name": "stdout",
     "output_type": "stream",
     "text": [
      "1610\n",
      "3589\n",
      "0\n",
      "3589\n"
     ]
    }
   ],
   "source": [
    "print(len(df))\n",
    "print(max(df[\"start_time\"]))\n",
    "print(min(df[\"start_time\"]))\n",
    "print(max(df[\"start_time\"]) - min(df[\"start_time\"]))"
   ]
  },
  {
   "cell_type": "code",
   "execution_count": 11,
   "metadata": {},
   "outputs": [],
   "source": [
    "df[\"id\"] = [i for i in range(len(df))]\n",
    "# reset indices\n",
    "df.reset_index(drop=True, inplace=True)"
   ]
  },
  {
   "cell_type": "code",
   "execution_count": null,
   "metadata": {},
   "outputs": [],
   "source": []
  },
  {
   "cell_type": "code",
   "execution_count": null,
   "metadata": {},
   "outputs": [
    {
     "name": "stdout",
     "output_type": "stream",
     "text": [
      "\n",
      "------Number of paths: 1--------\n",
      "1609/1610\n",
      "------Number of paths: 2--------\n",
      "4/1610Function timed out\n",
      "4 failed for -186623965#18 to -22917421#4\n",
      "7/1299Function timed out\n",
      "7 failed for -23283579#1 to 23283579#1\n",
      "9/1058Function timed out\n",
      "9 failed for 186623965#9 to 42925825#0\n",
      "10/857Function timed out\n",
      "10 failed for 186623965#9 to 42925825#0\n",
      "12/857Function timed out\n",
      "12 failed for 22917421#3 to 186623965#17\n",
      "14/704Function timed out\n",
      "14 failed for 22917421#3 to 186623965#17\n",
      "15/704Function timed out\n",
      "15 failed for -42925825#2 to 42925825#0\n",
      "16/447Function timed out\n",
      "16 failed for 22917421#3 to 186623965#17\n",
      "23/447Function timed out\n",
      "23 failed for 22917421#3 to 186623965#17\n",
      "26/447Function timed out\n",
      "26 failed for 186623965#9 to 42925825#0\n",
      "28/447Function timed out\n",
      "28 failed for -186623965#18 to -22917421#4\n",
      "30/447Function timed out\n",
      "30 failed for 22917421#3 to 186623965#17\n",
      "32/447Function timed out\n",
      "32 failed for 186623965#9 to 42925825#0\n",
      "39/447Function timed out\n",
      "39 failed for 22917421#3 to 186623965#17\n",
      "44/447Function timed out\n",
      "44 failed for 22917421#3 to 186623965#17\n",
      "51/447Function timed out\n",
      "51 failed for 133081987#0 to 23283436\n",
      "60/412Function timed out\n",
      "60 failed for -353069169#0 to 323416262\n",
      "61/395Function timed out\n",
      "61 failed for 22917421#3 to 186623965#17\n",
      "62/395Function timed out\n",
      "62 failed for -186623965#18 to -22917421#4\n",
      "65/395Function timed out\n",
      "65 failed for -186623965#18 to -22917421#4\n",
      "67/395Function timed out\n",
      "67 failed for 22917421#3 to 186623965#17\n",
      "69/395Function timed out\n",
      "69 failed for 22917421#3 to 186623965#17\n",
      "71/395Function timed out\n",
      "71 failed for 186623965#9 to 42925825#0\n",
      "75/395Function timed out\n",
      "75 failed for 22917421#3 to 186623965#17\n",
      "77/395Function timed out\n",
      "77 failed for -186623965#18 to -22917421#4\n",
      "80/395Function timed out\n",
      "80 failed for -4936412 to 8716827#0\n",
      "81/255Function timed out\n",
      "81 failed for 22917421#3 to 186623965#17\n",
      "82/255Function timed out\n",
      "82 failed for -4936412 to 8716827#0\n",
      "84/255Function timed out\n",
      "84 failed for -186623965#18 to -22917421#4\n",
      "89/255"
     ]
    }
   ],
   "source": [
    "import signal\n",
    "\n",
    "class TimeoutException(Exception):\n",
    "    pass\n",
    "\n",
    "def handler(signum, frame):\n",
    "    raise TimeoutException(\"Function timed out\")\n",
    "\n",
    "def run_with_timeout(func, timeout, *args, **kwargs):\n",
    "    signal.signal(signal.SIGALRM, handler)\n",
    "    signal.alarm(timeout)  # Set the timeout alarm\n",
    "\n",
    "    try:\n",
    "        result = func(*args, **kwargs)  # Call the function with arguments\n",
    "        signal.alarm(0)  # Cancel the alarm if execution completes in time\n",
    "        return result\n",
    "    except TimeoutException as e:\n",
    "        print(e)\n",
    "        return None\n",
    "\n",
    "# Example function with arguments\n",
    "def slow_function(x, y):\n",
    "    import time\n",
    "    time.sleep(5)  # Simulating a slow operation\n",
    "    return x + y\n",
    "\n",
    "\n",
    "for num_paths in range(6):\n",
    "    path_gen_kwargs = {\n",
    "                \"number_of_paths\": num_paths+1,\n",
    "                \"random_seed\": 42,\n",
    "                \"num_samples\": 20,\n",
    "                \"beta\": -1.5,\n",
    "                \"weight\": \"time\",\n",
    "                \"verbose\": False\n",
    "            }\n",
    "    print(f\"\\n------Number of paths: {num_paths+1}--------\")\n",
    "    for idx, row in df.iterrows():\n",
    "        print(f\"\\r{idx}/{len(df)}\", end=\"\")\n",
    "        routes = run_with_timeout(jx.basic_generator, 10, network, [origin_names[row[\"origin\"]]], [destination_names[row[\"destination\"]]], as_df=True, calc_free_flow=True, **path_gen_kwargs)\n",
    "        if routes is None:\n",
    "            print(f\"{row['id']} failed for {origin_names[row['origin']]} to {destination_names[row['destination']]}\")\n",
    "            for idx1, row1 in df.iterrows():\n",
    "                if row1[\"origin\"] == row['origin'] or row1[\"destination\"] == row['destination']:\n",
    "                    df.drop(idx1, inplace=True)\n",
    "            \n",
    "#routes = jx.basic_generator(network, origin_indices.keys(), destination_indices.keys(), as_df=True, calc_free_flow=True, **path_gen_kwargs)"
   ]
  }
 ],
 "metadata": {
  "kernelspec": {
   "display_name": "venv",
   "language": "python",
   "name": "python3"
  },
  "language_info": {
   "codemirror_mode": {
    "name": "ipython",
    "version": 3
   },
   "file_extension": ".py",
   "mimetype": "text/x-python",
   "name": "python",
   "nbconvert_exporter": "python",
   "pygments_lexer": "ipython3",
   "version": "3.9.6"
  }
 },
 "nbformat": 4,
 "nbformat_minor": 2
}
