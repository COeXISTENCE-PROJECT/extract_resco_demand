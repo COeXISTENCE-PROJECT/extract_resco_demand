{
 "cells": [
  {
   "cell_type": "code",
   "execution_count": 1,
   "metadata": {},
   "outputs": [],
   "source": [
    "import xml.etree.ElementTree as ET\n",
    "import pandas as pd\n",
    "import janux as jx\n",
    "import networkx as nx\n",
    "import signal\n",
    "import matplotlib.pyplot as plt"
   ]
  },
  {
   "cell_type": "code",
   "execution_count": 2,
   "metadata": {},
   "outputs": [],
   "source": [
    "import warnings\n",
    "warnings.filterwarnings(\"ignore\", category=RuntimeWarning)"
   ]
  },
  {
   "cell_type": "markdown",
   "metadata": {},
   "source": [
    "# Read Demand XML"
   ]
  },
  {
   "cell_type": "code",
   "execution_count": 3,
   "metadata": {},
   "outputs": [],
   "source": [
    "def parse_trips(xml_file):\n",
    "    tree = ET.parse(xml_file)\n",
    "    root = tree.getroot()\n",
    "\n",
    "    trips_data = []\n",
    "    \n",
    "    for trip in root.findall(\"trip\"):\n",
    "        trip_info = trip.attrib\n",
    "        trips_data.append(trip_info)\n",
    "\n",
    "    return pd.DataFrame(trips_data)"
   ]
  },
  {
   "cell_type": "code",
   "execution_count": 4,
   "metadata": {},
   "outputs": [],
   "source": [
    "demand_rou_file = \"ingolstadt21.rou.xml\"\n",
    "\n",
    "connection_file = \"ingolstadt.con.xml\"\n",
    "edge_file = \"ingolstadt.edg.xml\"\n",
    "route_file = \"ingolstadt.rou.xml\""
   ]
  },
  {
   "cell_type": "code",
   "execution_count": 5,
   "metadata": {},
   "outputs": [
    {
     "data": {
      "application/vnd.microsoft.datawrangler.viewer.v0+json": {
       "columns": [
        {
         "name": "index",
         "rawType": "int64",
         "type": "integer"
        },
        {
         "name": "id",
         "rawType": "object",
         "type": "string"
        },
        {
         "name": "type",
         "rawType": "object",
         "type": "string"
        },
        {
         "name": "depart",
         "rawType": "object",
         "type": "string"
        },
        {
         "name": "from",
         "rawType": "object",
         "type": "string"
        },
        {
         "name": "to",
         "rawType": "object",
         "type": "string"
        }
       ],
       "conversionMethod": "pd.DataFrame",
       "ref": "541fe4e4-3891-45f7-aadd-f617aca8e03a",
       "rows": [
        [
         "1387",
         "carIn18173:1",
         "default_016",
         "58765.50",
         "25190140#1",
         "18809673#0"
        ],
        [
         "3531",
         "carIn41328:1",
         "default_017",
         "60500.60",
         "315358244",
         "386687235"
        ],
        [
         "3453",
         "carIn29640:1",
         "default_017",
         "60440.20",
         "272042143",
         "306240162#0"
        ],
        [
         "3219",
         "carIn82041:1",
         "default_017",
         "60245.70",
         "272042143",
         "201238729#3"
        ],
        [
         "121",
         "carIn99509:1",
         "default_015",
         "57719.80",
         "-32978638#0",
         "-315358244"
        ],
        [
         "2995",
         "carIn132453:1",
         "default_017",
         "60087.70",
         "-18809673#6",
         "386687235"
        ],
        [
         "217",
         "h18243c1:3",
         "default_016",
         "57812.00",
         "399835085#1",
         "18809673#0"
        ],
        [
         "2359",
         "carIn128876:1",
         "default_017",
         "59591.10",
         "128361102#0",
         "201956811#0"
        ],
        [
         "1130",
         "carIn65054:1",
         "default_016",
         "58597.40",
         "124812856#0",
         "-128361102#1"
        ],
        [
         "3915",
         "h19359c1:2",
         "default_017",
         "60849.90",
         "124812856#0",
         "-128361102#1"
        ]
       ],
       "shape": {
        "columns": 5,
        "rows": 10
       }
      },
      "text/html": [
       "<div>\n",
       "<style scoped>\n",
       "    .dataframe tbody tr th:only-of-type {\n",
       "        vertical-align: middle;\n",
       "    }\n",
       "\n",
       "    .dataframe tbody tr th {\n",
       "        vertical-align: top;\n",
       "    }\n",
       "\n",
       "    .dataframe thead th {\n",
       "        text-align: right;\n",
       "    }\n",
       "</style>\n",
       "<table border=\"1\" class=\"dataframe\">\n",
       "  <thead>\n",
       "    <tr style=\"text-align: right;\">\n",
       "      <th></th>\n",
       "      <th>id</th>\n",
       "      <th>type</th>\n",
       "      <th>depart</th>\n",
       "      <th>from</th>\n",
       "      <th>to</th>\n",
       "    </tr>\n",
       "  </thead>\n",
       "  <tbody>\n",
       "    <tr>\n",
       "      <th>1387</th>\n",
       "      <td>carIn18173:1</td>\n",
       "      <td>default_016</td>\n",
       "      <td>58765.50</td>\n",
       "      <td>25190140#1</td>\n",
       "      <td>18809673#0</td>\n",
       "    </tr>\n",
       "    <tr>\n",
       "      <th>3531</th>\n",
       "      <td>carIn41328:1</td>\n",
       "      <td>default_017</td>\n",
       "      <td>60500.60</td>\n",
       "      <td>315358244</td>\n",
       "      <td>386687235</td>\n",
       "    </tr>\n",
       "    <tr>\n",
       "      <th>3453</th>\n",
       "      <td>carIn29640:1</td>\n",
       "      <td>default_017</td>\n",
       "      <td>60440.20</td>\n",
       "      <td>272042143</td>\n",
       "      <td>306240162#0</td>\n",
       "    </tr>\n",
       "    <tr>\n",
       "      <th>3219</th>\n",
       "      <td>carIn82041:1</td>\n",
       "      <td>default_017</td>\n",
       "      <td>60245.70</td>\n",
       "      <td>272042143</td>\n",
       "      <td>201238729#3</td>\n",
       "    </tr>\n",
       "    <tr>\n",
       "      <th>121</th>\n",
       "      <td>carIn99509:1</td>\n",
       "      <td>default_015</td>\n",
       "      <td>57719.80</td>\n",
       "      <td>-32978638#0</td>\n",
       "      <td>-315358244</td>\n",
       "    </tr>\n",
       "    <tr>\n",
       "      <th>2995</th>\n",
       "      <td>carIn132453:1</td>\n",
       "      <td>default_017</td>\n",
       "      <td>60087.70</td>\n",
       "      <td>-18809673#6</td>\n",
       "      <td>386687235</td>\n",
       "    </tr>\n",
       "    <tr>\n",
       "      <th>217</th>\n",
       "      <td>h18243c1:3</td>\n",
       "      <td>default_016</td>\n",
       "      <td>57812.00</td>\n",
       "      <td>399835085#1</td>\n",
       "      <td>18809673#0</td>\n",
       "    </tr>\n",
       "    <tr>\n",
       "      <th>2359</th>\n",
       "      <td>carIn128876:1</td>\n",
       "      <td>default_017</td>\n",
       "      <td>59591.10</td>\n",
       "      <td>128361102#0</td>\n",
       "      <td>201956811#0</td>\n",
       "    </tr>\n",
       "    <tr>\n",
       "      <th>1130</th>\n",
       "      <td>carIn65054:1</td>\n",
       "      <td>default_016</td>\n",
       "      <td>58597.40</td>\n",
       "      <td>124812856#0</td>\n",
       "      <td>-128361102#1</td>\n",
       "    </tr>\n",
       "    <tr>\n",
       "      <th>3915</th>\n",
       "      <td>h19359c1:2</td>\n",
       "      <td>default_017</td>\n",
       "      <td>60849.90</td>\n",
       "      <td>124812856#0</td>\n",
       "      <td>-128361102#1</td>\n",
       "    </tr>\n",
       "  </tbody>\n",
       "</table>\n",
       "</div>"
      ],
      "text/plain": [
       "                 id         type    depart         from            to\n",
       "1387   carIn18173:1  default_016  58765.50   25190140#1    18809673#0\n",
       "3531   carIn41328:1  default_017  60500.60    315358244     386687235\n",
       "3453   carIn29640:1  default_017  60440.20    272042143   306240162#0\n",
       "3219   carIn82041:1  default_017  60245.70    272042143   201238729#3\n",
       "121    carIn99509:1  default_015  57719.80  -32978638#0    -315358244\n",
       "2995  carIn132453:1  default_017  60087.70  -18809673#6     386687235\n",
       "217      h18243c1:3  default_016  57812.00  399835085#1    18809673#0\n",
       "2359  carIn128876:1  default_017  59591.10  128361102#0   201956811#0\n",
       "1130   carIn65054:1  default_016  58597.40  124812856#0  -128361102#1\n",
       "3915     h19359c1:2  default_017  60849.90  124812856#0  -128361102#1"
      ]
     },
     "execution_count": 5,
     "metadata": {},
     "output_type": "execute_result"
    }
   ],
   "source": [
    "df = parse_trips(demand_rou_file)\n",
    "df.sample(10)"
   ]
  },
  {
   "cell_type": "markdown",
   "metadata": {},
   "source": [
    "# Reformat columns"
   ]
  },
  {
   "cell_type": "code",
   "execution_count": 6,
   "metadata": {},
   "outputs": [],
   "source": [
    "# Scale departure times\n",
    "df[\"depart\"] = df[\"depart\"].astype(float)\n",
    "df[\"depart\"] = df[\"depart\"].astype(int)\n",
    "df[\"depart\"] = df[\"depart\"] - min(df[\"depart\"])\n",
    "\n",
    "# Fix IDs\n",
    "df[\"id\"] = df.index\n",
    "\n",
    "# Add kind column\n",
    "df[\"kind\"] = \"Human\"\n",
    "\n",
    "# Rename columns\n",
    "df.rename(columns={\"depart\": \"start_time\"}, inplace=True)\n",
    "df.rename(columns={\"from\": \"origin\"}, inplace=True)\n",
    "df.rename(columns={\"to\": \"destination\"}, inplace=True)\n",
    "\n",
    "# Drop unnecessary columns\n",
    "df.drop(columns=[\"type\"], inplace=True)\n"
   ]
  },
  {
   "cell_type": "markdown",
   "metadata": {},
   "source": [
    "# Build network"
   ]
  },
  {
   "cell_type": "code",
   "execution_count": 7,
   "metadata": {},
   "outputs": [],
   "source": [
    "network = jx.build_digraph(connection_file, edge_file, route_file)"
   ]
  },
  {
   "cell_type": "markdown",
   "metadata": {},
   "source": [
    "# Precleaning"
   ]
  },
  {
   "cell_type": "code",
   "execution_count": 8,
   "metadata": {},
   "outputs": [
    {
     "data": {
      "application/vnd.microsoft.datawrangler.viewer.v0+json": {
       "columns": [
        {
         "name": "index",
         "rawType": "int64",
         "type": "integer"
        },
        {
         "name": "id",
         "rawType": "int64",
         "type": "integer"
        },
        {
         "name": "start_time",
         "rawType": "int64",
         "type": "integer"
        },
        {
         "name": "origin",
         "rawType": "object",
         "type": "string"
        },
        {
         "name": "destination",
         "rawType": "object",
         "type": "string"
        },
        {
         "name": "kind",
         "rawType": "object",
         "type": "string"
        }
       ],
       "conversionMethod": "pd.DataFrame",
       "ref": "18e1e861-bb69-4125-bb5a-b3f53e78a637",
       "rows": [
        [
         "0",
         "0",
         "0",
         "201089423#0",
         "-315358244",
         "Human"
        ],
        [
         "1",
         "1",
         "0",
         "124812856#0",
         "-128361102#1",
         "Human"
        ],
        [
         "2",
         "2",
         "2",
         "128361109#1",
         "-315358254#1",
         "Human"
        ],
        [
         "3",
         "3",
         "4",
         "124812856#0",
         "306240162#0",
         "Human"
        ],
        [
         "4",
         "4",
         "5",
         "315358254#0",
         "399835085#1",
         "Human"
        ],
        [
         "5",
         "5",
         "5",
         "315358244",
         "-25149001#4",
         "Human"
        ],
        [
         "6",
         "6",
         "5",
         "124812856#0",
         "-128361102#1",
         "Human"
        ],
        [
         "7",
         "7",
         "5",
         "10425609#0",
         "-128361102#1",
         "Human"
        ],
        [
         "8",
         "8",
         "8",
         "124812856#0",
         "-128361102#1",
         "Human"
        ],
        [
         "9",
         "9",
         "11",
         "24608844",
         "32978638#0",
         "Human"
        ],
        [
         "10",
         "10",
         "11",
         "315358244",
         "386687235",
         "Human"
        ],
        [
         "11",
         "11",
         "11",
         "315358250#0",
         "386687235",
         "Human"
        ],
        [
         "12",
         "12",
         "12",
         "-306240162#1",
         "386687235",
         "Human"
        ],
        [
         "13",
         "13",
         "12",
         "124812856#0",
         "-128361102#1",
         "Human"
        ],
        [
         "14",
         "14",
         "13",
         "-306240162#1",
         "399835085#1",
         "Human"
        ],
        [
         "15",
         "15",
         "15",
         "124812856#0",
         "-128361102#1",
         "Human"
        ],
        [
         "16",
         "16",
         "15",
         "-306240162#1",
         "386687235",
         "Human"
        ],
        [
         "17",
         "17",
         "16",
         "128361102#0",
         "201956811#0",
         "Human"
        ],
        [
         "18",
         "18",
         "17",
         "-306240162#1",
         "386687235",
         "Human"
        ],
        [
         "19",
         "19",
         "18",
         "124812856#0",
         "306240162#0",
         "Human"
        ],
        [
         "20",
         "20",
         "21",
         "124812856#0",
         "-128361102#1",
         "Human"
        ],
        [
         "21",
         "21",
         "21",
         "266565295#5",
         "-315358244",
         "Human"
        ],
        [
         "22",
         "22",
         "22",
         "124812856#0",
         "-128361102#1",
         "Human"
        ],
        [
         "23",
         "23",
         "23",
         "124812856#0",
         "-128361102#1",
         "Human"
        ],
        [
         "24",
         "24",
         "23",
         "124812856#0",
         "-128361102#1",
         "Human"
        ],
        [
         "25",
         "25",
         "25",
         "201201950#1",
         "32978638#0",
         "Human"
        ],
        [
         "26",
         "26",
         "25",
         "124812856#0",
         "306240162#0",
         "Human"
        ],
        [
         "27",
         "27",
         "26",
         "-306240162#1",
         "386687235",
         "Human"
        ],
        [
         "28",
         "28",
         "27",
         "124812856#0",
         "-128361102#1",
         "Human"
        ],
        [
         "29",
         "29",
         "28",
         "124812856#0",
         "306240162#0",
         "Human"
        ],
        [
         "30",
         "30",
         "28",
         "-306240162#1",
         "386687235",
         "Human"
        ],
        [
         "31",
         "31",
         "28",
         "124812856#0",
         "306240162#0",
         "Human"
        ],
        [
         "32",
         "32",
         "30",
         "315358244",
         "386687235",
         "Human"
        ],
        [
         "33",
         "33",
         "30",
         "124812856#0",
         "-128361102#1",
         "Human"
        ],
        [
         "34",
         "34",
         "30",
         "124812856#0",
         "306240162#0",
         "Human"
        ],
        [
         "35",
         "35",
         "31",
         "201201953#4",
         "-266565295#5",
         "Human"
        ],
        [
         "36",
         "36",
         "32",
         "124812856#0",
         "-128361102#1",
         "Human"
        ],
        [
         "37",
         "37",
         "33",
         "124812856#0",
         "201238729#3",
         "Human"
        ],
        [
         "38",
         "38",
         "33",
         "10425609#0",
         "-128361102#1",
         "Human"
        ],
        [
         "39",
         "39",
         "33",
         "124812856#0",
         "306240162#0",
         "Human"
        ],
        [
         "40",
         "40",
         "35",
         "399835085#1",
         "32978638#0",
         "Human"
        ],
        [
         "41",
         "41",
         "35",
         "124812856#0",
         "306240162#0",
         "Human"
        ],
        [
         "42",
         "42",
         "37",
         "124812856#0",
         "-128361102#1",
         "Human"
        ],
        [
         "43",
         "43",
         "37",
         "-306240162#1",
         "386687235",
         "Human"
        ],
        [
         "44",
         "44",
         "37",
         "124812856#0",
         "306240162#0",
         "Human"
        ],
        [
         "45",
         "45",
         "39",
         "272042143",
         "24634414#1",
         "Human"
        ],
        [
         "46",
         "46",
         "40",
         "124812856#0",
         "306240162#0",
         "Human"
        ],
        [
         "47",
         "47",
         "40",
         "-306240162#1",
         "201956820",
         "Human"
        ],
        [
         "48",
         "48",
         "42",
         "128361102#0",
         "201956811#0",
         "Human"
        ],
        [
         "49",
         "49",
         "43",
         "124812856#0",
         "-128361102#1",
         "Human"
        ]
       ],
       "shape": {
        "columns": 5,
        "rows": 4283
       }
      },
      "text/html": [
       "<div>\n",
       "<style scoped>\n",
       "    .dataframe tbody tr th:only-of-type {\n",
       "        vertical-align: middle;\n",
       "    }\n",
       "\n",
       "    .dataframe tbody tr th {\n",
       "        vertical-align: top;\n",
       "    }\n",
       "\n",
       "    .dataframe thead th {\n",
       "        text-align: right;\n",
       "    }\n",
       "</style>\n",
       "<table border=\"1\" class=\"dataframe\">\n",
       "  <thead>\n",
       "    <tr style=\"text-align: right;\">\n",
       "      <th></th>\n",
       "      <th>id</th>\n",
       "      <th>start_time</th>\n",
       "      <th>origin</th>\n",
       "      <th>destination</th>\n",
       "      <th>kind</th>\n",
       "    </tr>\n",
       "  </thead>\n",
       "  <tbody>\n",
       "    <tr>\n",
       "      <th>0</th>\n",
       "      <td>0</td>\n",
       "      <td>0</td>\n",
       "      <td>201089423#0</td>\n",
       "      <td>-315358244</td>\n",
       "      <td>Human</td>\n",
       "    </tr>\n",
       "    <tr>\n",
       "      <th>1</th>\n",
       "      <td>1</td>\n",
       "      <td>0</td>\n",
       "      <td>124812856#0</td>\n",
       "      <td>-128361102#1</td>\n",
       "      <td>Human</td>\n",
       "    </tr>\n",
       "    <tr>\n",
       "      <th>2</th>\n",
       "      <td>2</td>\n",
       "      <td>2</td>\n",
       "      <td>128361109#1</td>\n",
       "      <td>-315358254#1</td>\n",
       "      <td>Human</td>\n",
       "    </tr>\n",
       "    <tr>\n",
       "      <th>3</th>\n",
       "      <td>3</td>\n",
       "      <td>4</td>\n",
       "      <td>124812856#0</td>\n",
       "      <td>306240162#0</td>\n",
       "      <td>Human</td>\n",
       "    </tr>\n",
       "    <tr>\n",
       "      <th>4</th>\n",
       "      <td>4</td>\n",
       "      <td>5</td>\n",
       "      <td>315358254#0</td>\n",
       "      <td>399835085#1</td>\n",
       "      <td>Human</td>\n",
       "    </tr>\n",
       "    <tr>\n",
       "      <th>...</th>\n",
       "      <td>...</td>\n",
       "      <td>...</td>\n",
       "      <td>...</td>\n",
       "      <td>...</td>\n",
       "      <td>...</td>\n",
       "    </tr>\n",
       "    <tr>\n",
       "      <th>4278</th>\n",
       "      <td>4278</td>\n",
       "      <td>3596</td>\n",
       "      <td>315358244</td>\n",
       "      <td>32978638#0</td>\n",
       "      <td>Human</td>\n",
       "    </tr>\n",
       "    <tr>\n",
       "      <th>4279</th>\n",
       "      <td>4279</td>\n",
       "      <td>3598</td>\n",
       "      <td>-32978638#0</td>\n",
       "      <td>-315358254#1</td>\n",
       "      <td>Human</td>\n",
       "    </tr>\n",
       "    <tr>\n",
       "      <th>4280</th>\n",
       "      <td>4280</td>\n",
       "      <td>3599</td>\n",
       "      <td>315358244</td>\n",
       "      <td>32978638#0</td>\n",
       "      <td>Human</td>\n",
       "    </tr>\n",
       "    <tr>\n",
       "      <th>4281</th>\n",
       "      <td>4281</td>\n",
       "      <td>3600</td>\n",
       "      <td>128361109#1</td>\n",
       "      <td>32978638#0</td>\n",
       "      <td>Human</td>\n",
       "    </tr>\n",
       "    <tr>\n",
       "      <th>4282</th>\n",
       "      <td>4282</td>\n",
       "      <td>3600</td>\n",
       "      <td>-306240162#1</td>\n",
       "      <td>386687235</td>\n",
       "      <td>Human</td>\n",
       "    </tr>\n",
       "  </tbody>\n",
       "</table>\n",
       "<p>4283 rows × 5 columns</p>\n",
       "</div>"
      ],
      "text/plain": [
       "        id  start_time        origin   destination   kind\n",
       "0        0           0   201089423#0    -315358244  Human\n",
       "1        1           0   124812856#0  -128361102#1  Human\n",
       "2        2           2   128361109#1  -315358254#1  Human\n",
       "3        3           4   124812856#0   306240162#0  Human\n",
       "4        4           5   315358254#0   399835085#1  Human\n",
       "...    ...         ...           ...           ...    ...\n",
       "4278  4278        3596     315358244    32978638#0  Human\n",
       "4279  4279        3598   -32978638#0  -315358254#1  Human\n",
       "4280  4280        3599     315358244    32978638#0  Human\n",
       "4281  4281        3600   128361109#1    32978638#0  Human\n",
       "4282  4282        3600  -306240162#1     386687235  Human\n",
       "\n",
       "[4283 rows x 5 columns]"
      ]
     },
     "execution_count": 8,
     "metadata": {},
     "output_type": "execute_result"
    }
   ],
   "source": [
    "df"
   ]
  },
  {
   "cell_type": "markdown",
   "metadata": {},
   "source": [
    "### Remove isolated nodes"
   ]
  },
  {
   "cell_type": "code",
   "execution_count": 9,
   "metadata": {},
   "outputs": [
    {
     "name": "stdout",
     "output_type": "stream",
     "text": [
      "Removing trips with inaccessible origins or destinations...\n",
      "Deleted 3 origins and 5 destinations\n"
     ]
    }
   ],
   "source": [
    "print(\"Removing trips with inaccessible origins or destinations...\")\n",
    "\n",
    "origins, destinations = df[\"origin\"].unique(), df[\"destination\"].unique()\n",
    "bad_origins, bad_destinations = [], []\n",
    "\n",
    "# origins with no outlinks\n",
    "for origin in origins:\n",
    "    paths_from_origin = nx.multi_source_dijkstra_path(network, [origin])\n",
    "    del paths_from_origin[origin]\n",
    "    if len(paths_from_origin) == 0:\n",
    "        bad_origins.append(origin)\n",
    " \n",
    "# inaccessible destinations       \n",
    "for destination in destinations:\n",
    "    paths_from_destination = nx.multi_source_dijkstra_path(network.reverse(), [destination])\n",
    "    del paths_from_destination[destination]\n",
    "    if len(paths_from_destination) == 0:\n",
    "        bad_destinations.append(destination)\n",
    "        \n",
    "for idx, row in df.iterrows():\n",
    "    if row[\"origin\"] in bad_origins or row[\"destination\"] in bad_destinations:\n",
    "        df.drop(idx, inplace=True)\n",
    "        \n",
    "print(f\"Deleted {len(bad_origins)} origins and {len(bad_destinations)} destinations\")"
   ]
  },
  {
   "cell_type": "markdown",
   "metadata": {},
   "source": [
    "### Remove same OD demands"
   ]
  },
  {
   "cell_type": "code",
   "execution_count": 10,
   "metadata": {},
   "outputs": [
    {
     "name": "stdout",
     "output_type": "stream",
     "text": [
      "Removing trips with identical origin and destination...\n",
      "Deleted 1 trips with identical origin and destination\n"
     ]
    }
   ],
   "source": [
    "print(\"Removing trips with identical origin and destination...\")\n",
    "counter = 0\n",
    "for idx, row in df.iterrows():\n",
    "    if row[\"origin\"] == row[\"destination\"]:\n",
    "        df.drop(idx, inplace=True)\n",
    "        counter += 1\n",
    "print(f\"Deleted {counter} trips with identical origin and destination\")"
   ]
  },
  {
   "cell_type": "markdown",
   "metadata": {},
   "source": [
    "# Reset indices"
   ]
  },
  {
   "cell_type": "code",
   "execution_count": 11,
   "metadata": {},
   "outputs": [
    {
     "data": {
      "application/vnd.microsoft.datawrangler.viewer.v0+json": {
       "columns": [
        {
         "name": "index",
         "rawType": "int64",
         "type": "integer"
        },
        {
         "name": "id",
         "rawType": "int64",
         "type": "integer"
        },
        {
         "name": "start_time",
         "rawType": "int64",
         "type": "integer"
        },
        {
         "name": "origin",
         "rawType": "object",
         "type": "string"
        },
        {
         "name": "destination",
         "rawType": "object",
         "type": "string"
        },
        {
         "name": "kind",
         "rawType": "object",
         "type": "string"
        }
       ],
       "conversionMethod": "pd.DataFrame",
       "ref": "724c97a7-0037-421f-8d95-f6982064f8fa",
       "rows": [
        [
         "0",
         "0",
         "0",
         "201089423#0",
         "-315358244",
         "Human"
        ],
        [
         "1",
         "1",
         "0",
         "124812856#0",
         "-128361102#1",
         "Human"
        ],
        [
         "2",
         "2",
         "2",
         "128361109#1",
         "-315358254#1",
         "Human"
        ],
        [
         "3",
         "3",
         "4",
         "124812856#0",
         "306240162#0",
         "Human"
        ],
        [
         "4",
         "4",
         "5",
         "315358254#0",
         "399835085#1",
         "Human"
        ],
        [
         "5",
         "5",
         "5",
         "315358244",
         "-25149001#4",
         "Human"
        ],
        [
         "6",
         "6",
         "5",
         "124812856#0",
         "-128361102#1",
         "Human"
        ],
        [
         "7",
         "7",
         "5",
         "10425609#0",
         "-128361102#1",
         "Human"
        ],
        [
         "8",
         "8",
         "8",
         "124812856#0",
         "-128361102#1",
         "Human"
        ],
        [
         "9",
         "9",
         "11",
         "24608844",
         "32978638#0",
         "Human"
        ],
        [
         "10",
         "10",
         "11",
         "315358244",
         "386687235",
         "Human"
        ],
        [
         "11",
         "11",
         "11",
         "315358250#0",
         "386687235",
         "Human"
        ],
        [
         "12",
         "12",
         "12",
         "-306240162#1",
         "386687235",
         "Human"
        ],
        [
         "13",
         "13",
         "12",
         "124812856#0",
         "-128361102#1",
         "Human"
        ],
        [
         "14",
         "14",
         "13",
         "-306240162#1",
         "399835085#1",
         "Human"
        ],
        [
         "15",
         "15",
         "15",
         "124812856#0",
         "-128361102#1",
         "Human"
        ],
        [
         "16",
         "16",
         "15",
         "-306240162#1",
         "386687235",
         "Human"
        ],
        [
         "17",
         "17",
         "16",
         "128361102#0",
         "201956811#0",
         "Human"
        ],
        [
         "18",
         "18",
         "17",
         "-306240162#1",
         "386687235",
         "Human"
        ],
        [
         "19",
         "19",
         "18",
         "124812856#0",
         "306240162#0",
         "Human"
        ],
        [
         "20",
         "20",
         "21",
         "124812856#0",
         "-128361102#1",
         "Human"
        ],
        [
         "21",
         "21",
         "21",
         "266565295#5",
         "-315358244",
         "Human"
        ],
        [
         "22",
         "22",
         "22",
         "124812856#0",
         "-128361102#1",
         "Human"
        ],
        [
         "23",
         "23",
         "23",
         "124812856#0",
         "-128361102#1",
         "Human"
        ],
        [
         "24",
         "24",
         "23",
         "124812856#0",
         "-128361102#1",
         "Human"
        ],
        [
         "25",
         "25",
         "25",
         "201201950#1",
         "32978638#0",
         "Human"
        ],
        [
         "26",
         "26",
         "25",
         "124812856#0",
         "306240162#0",
         "Human"
        ],
        [
         "27",
         "27",
         "26",
         "-306240162#1",
         "386687235",
         "Human"
        ],
        [
         "28",
         "28",
         "27",
         "124812856#0",
         "-128361102#1",
         "Human"
        ],
        [
         "29",
         "29",
         "28",
         "124812856#0",
         "306240162#0",
         "Human"
        ],
        [
         "30",
         "30",
         "28",
         "-306240162#1",
         "386687235",
         "Human"
        ],
        [
         "31",
         "31",
         "28",
         "124812856#0",
         "306240162#0",
         "Human"
        ],
        [
         "32",
         "32",
         "30",
         "315358244",
         "386687235",
         "Human"
        ],
        [
         "33",
         "33",
         "30",
         "124812856#0",
         "-128361102#1",
         "Human"
        ],
        [
         "34",
         "34",
         "30",
         "124812856#0",
         "306240162#0",
         "Human"
        ],
        [
         "35",
         "35",
         "31",
         "201201953#4",
         "-266565295#5",
         "Human"
        ],
        [
         "36",
         "36",
         "32",
         "124812856#0",
         "-128361102#1",
         "Human"
        ],
        [
         "37",
         "37",
         "33",
         "124812856#0",
         "201238729#3",
         "Human"
        ],
        [
         "38",
         "38",
         "33",
         "10425609#0",
         "-128361102#1",
         "Human"
        ],
        [
         "39",
         "39",
         "33",
         "124812856#0",
         "306240162#0",
         "Human"
        ],
        [
         "40",
         "40",
         "35",
         "399835085#1",
         "32978638#0",
         "Human"
        ],
        [
         "41",
         "41",
         "35",
         "124812856#0",
         "306240162#0",
         "Human"
        ],
        [
         "42",
         "42",
         "37",
         "124812856#0",
         "-128361102#1",
         "Human"
        ],
        [
         "43",
         "43",
         "37",
         "-306240162#1",
         "386687235",
         "Human"
        ],
        [
         "44",
         "44",
         "37",
         "124812856#0",
         "306240162#0",
         "Human"
        ],
        [
         "45",
         "45",
         "39",
         "272042143",
         "24634414#1",
         "Human"
        ],
        [
         "46",
         "46",
         "40",
         "124812856#0",
         "306240162#0",
         "Human"
        ],
        [
         "47",
         "47",
         "40",
         "-306240162#1",
         "201956820",
         "Human"
        ],
        [
         "48",
         "48",
         "42",
         "128361102#0",
         "201956811#0",
         "Human"
        ],
        [
         "49",
         "49",
         "43",
         "124812856#0",
         "-128361102#1",
         "Human"
        ]
       ],
       "shape": {
        "columns": 5,
        "rows": 4267
       }
      },
      "text/html": [
       "<div>\n",
       "<style scoped>\n",
       "    .dataframe tbody tr th:only-of-type {\n",
       "        vertical-align: middle;\n",
       "    }\n",
       "\n",
       "    .dataframe tbody tr th {\n",
       "        vertical-align: top;\n",
       "    }\n",
       "\n",
       "    .dataframe thead th {\n",
       "        text-align: right;\n",
       "    }\n",
       "</style>\n",
       "<table border=\"1\" class=\"dataframe\">\n",
       "  <thead>\n",
       "    <tr style=\"text-align: right;\">\n",
       "      <th></th>\n",
       "      <th>id</th>\n",
       "      <th>start_time</th>\n",
       "      <th>origin</th>\n",
       "      <th>destination</th>\n",
       "      <th>kind</th>\n",
       "    </tr>\n",
       "  </thead>\n",
       "  <tbody>\n",
       "    <tr>\n",
       "      <th>0</th>\n",
       "      <td>0</td>\n",
       "      <td>0</td>\n",
       "      <td>201089423#0</td>\n",
       "      <td>-315358244</td>\n",
       "      <td>Human</td>\n",
       "    </tr>\n",
       "    <tr>\n",
       "      <th>1</th>\n",
       "      <td>1</td>\n",
       "      <td>0</td>\n",
       "      <td>124812856#0</td>\n",
       "      <td>-128361102#1</td>\n",
       "      <td>Human</td>\n",
       "    </tr>\n",
       "    <tr>\n",
       "      <th>2</th>\n",
       "      <td>2</td>\n",
       "      <td>2</td>\n",
       "      <td>128361109#1</td>\n",
       "      <td>-315358254#1</td>\n",
       "      <td>Human</td>\n",
       "    </tr>\n",
       "    <tr>\n",
       "      <th>3</th>\n",
       "      <td>3</td>\n",
       "      <td>4</td>\n",
       "      <td>124812856#0</td>\n",
       "      <td>306240162#0</td>\n",
       "      <td>Human</td>\n",
       "    </tr>\n",
       "    <tr>\n",
       "      <th>4</th>\n",
       "      <td>4</td>\n",
       "      <td>5</td>\n",
       "      <td>315358254#0</td>\n",
       "      <td>399835085#1</td>\n",
       "      <td>Human</td>\n",
       "    </tr>\n",
       "    <tr>\n",
       "      <th>...</th>\n",
       "      <td>...</td>\n",
       "      <td>...</td>\n",
       "      <td>...</td>\n",
       "      <td>...</td>\n",
       "      <td>...</td>\n",
       "    </tr>\n",
       "    <tr>\n",
       "      <th>4262</th>\n",
       "      <td>4262</td>\n",
       "      <td>3596</td>\n",
       "      <td>315358244</td>\n",
       "      <td>32978638#0</td>\n",
       "      <td>Human</td>\n",
       "    </tr>\n",
       "    <tr>\n",
       "      <th>4263</th>\n",
       "      <td>4263</td>\n",
       "      <td>3598</td>\n",
       "      <td>-32978638#0</td>\n",
       "      <td>-315358254#1</td>\n",
       "      <td>Human</td>\n",
       "    </tr>\n",
       "    <tr>\n",
       "      <th>4264</th>\n",
       "      <td>4264</td>\n",
       "      <td>3599</td>\n",
       "      <td>315358244</td>\n",
       "      <td>32978638#0</td>\n",
       "      <td>Human</td>\n",
       "    </tr>\n",
       "    <tr>\n",
       "      <th>4265</th>\n",
       "      <td>4265</td>\n",
       "      <td>3600</td>\n",
       "      <td>128361109#1</td>\n",
       "      <td>32978638#0</td>\n",
       "      <td>Human</td>\n",
       "    </tr>\n",
       "    <tr>\n",
       "      <th>4266</th>\n",
       "      <td>4266</td>\n",
       "      <td>3600</td>\n",
       "      <td>-306240162#1</td>\n",
       "      <td>386687235</td>\n",
       "      <td>Human</td>\n",
       "    </tr>\n",
       "  </tbody>\n",
       "</table>\n",
       "<p>4267 rows × 5 columns</p>\n",
       "</div>"
      ],
      "text/plain": [
       "        id  start_time        origin   destination   kind\n",
       "0        0           0   201089423#0    -315358244  Human\n",
       "1        1           0   124812856#0  -128361102#1  Human\n",
       "2        2           2   128361109#1  -315358254#1  Human\n",
       "3        3           4   124812856#0   306240162#0  Human\n",
       "4        4           5   315358254#0   399835085#1  Human\n",
       "...    ...         ...           ...           ...    ...\n",
       "4262  4262        3596     315358244    32978638#0  Human\n",
       "4263  4263        3598   -32978638#0  -315358254#1  Human\n",
       "4264  4264        3599     315358244    32978638#0  Human\n",
       "4265  4265        3600   128361109#1    32978638#0  Human\n",
       "4266  4266        3600  -306240162#1     386687235  Human\n",
       "\n",
       "[4267 rows x 5 columns]"
      ]
     },
     "execution_count": 11,
     "metadata": {},
     "output_type": "execute_result"
    }
   ],
   "source": [
    "df.reset_index(drop=True, inplace=True)\n",
    "df[\"id\"] = [i for i in range(len(df))]\n",
    "\n",
    "df"
   ]
  },
  {
   "cell_type": "markdown",
   "metadata": {},
   "source": [
    "# Remaining size of DF and timespan"
   ]
  },
  {
   "cell_type": "code",
   "execution_count": 12,
   "metadata": {},
   "outputs": [
    {
     "name": "stdout",
     "output_type": "stream",
     "text": [
      "Num rows:  4267\n",
      "Latest departure:  3600\n",
      "Earliest departure:  0\n",
      "Timespan:  3600\n"
     ]
    }
   ],
   "source": [
    "print(\"Num rows: \", len(df))\n",
    "print(\"Latest departure: \", max(df[\"start_time\"]))\n",
    "print(\"Earliest departure: \", min(df[\"start_time\"]))\n",
    "print(\"Timespan: \", max(df[\"start_time\"]) - min(df[\"start_time\"]))"
   ]
  },
  {
   "cell_type": "code",
   "execution_count": 13,
   "metadata": {},
   "outputs": [
    {
     "data": {
      "image/png": "[encoded data removed]",
      "text/plain": [
       "<Figure size 600x300 with 1 Axes>"
      ]
     },
     "metadata": {},
     "output_type": "display_data"
    }
   ],
   "source": [
    "plt.figure(figsize=(6, 3))\n",
    "plt.hist(df[\"start_time\"], bins=100, color=\"blue\", alpha=0.7)\n",
    "plt.title(\"Start Time Density\")\n",
    "plt.xlabel(\"Start Time\")\n",
    "plt.ylabel(\"Frequency\")\n",
    "plt.grid(axis=\"y\", alpha=0.75) \n",
    "plt.savefig(\"start_time_density.png\", dpi=300, bbox_inches=\"tight\")"
   ]
  },
  {
   "cell_type": "markdown",
   "metadata": {},
   "source": [
    "# Prune ODs that we cannot generate paths\n",
    "\n",
    "### Meaning no possible route choice"
   ]
  },
  {
   "cell_type": "code",
   "execution_count": 14,
   "metadata": {},
   "outputs": [],
   "source": [
    "class TimeoutException(Exception):\n",
    "    pass\n",
    "\n",
    "def handler(signum, frame):\n",
    "    raise TimeoutException(\"Function timed out\")\n",
    "\n",
    "def run_with_timeout(func, timeout, *args, **kwargs):\n",
    "    signal.signal(signal.SIGALRM, handler)\n",
    "    signal.alarm(timeout)  # Set the timeout alarm\n",
    "\n",
    "    try:\n",
    "        result = func(*args, **kwargs)\n",
    "        signal.alarm(0)\n",
    "        return result\n",
    "    except TimeoutException as e:\n",
    "        return None"
   ]
  },
  {
   "cell_type": "code",
   "execution_count": 15,
   "metadata": {},
   "outputs": [],
   "source": [
    "def route_gen_process(network, df, num_paths, timeout=10):\n",
    "    print(f\"\\nGenerating paths for {num_paths} paths...\")\n",
    "    path_gen_kwargs = {\n",
    "                \"number_of_paths\": num_paths,\n",
    "                \"random_seed\": 42,\n",
    "                \"num_samples\": 20,\n",
    "                \"beta\": -5,\n",
    "                \"weight\": \"time\",\n",
    "                \"verbose\": False\n",
    "            }\n",
    "    \n",
    "    bad_demand = set()\n",
    "    for idx, row in df.iterrows():\n",
    "        print(f\"\\r{idx}/{len(df)}\", end=\"\")\n",
    "        if (row[\"origin\"], row[\"destination\"]) in bad_demand:\n",
    "            continue\n",
    "        # Generate paths with timeout\n",
    "        try:\n",
    "            routes = run_with_timeout(jx.extended_generator, timeout, network, [row[\"origin\"]], [row[\"destination\"]], as_df=True, calc_free_flow=True, **path_gen_kwargs)\n",
    "        except:\n",
    "            routes = None\n",
    "        if routes is None:\n",
    "            #print(f\"\\n{row['id']} failed for {row['origin']} to {row['destination']}\")\n",
    "            bad_demand.add((row[\"origin\"], row[\"destination\"]))\n",
    "      \n",
    "    bad_demand  = list(bad_demand)\n",
    "    print(f\"\\nBad demands for num_paths {num_paths}: {bad_demand}\")\n",
    "    \n",
    "    return bad_demand"
   ]
  },
  {
   "cell_type": "code",
   "execution_count": 16,
   "metadata": {},
   "outputs": [
    {
     "name": "stdout",
     "output_type": "stream",
     "text": [
      "\n",
      "Generating paths for 1 paths...\n",
      "4266/4267\n",
      "Bad demands for num_paths 1: []\n",
      "\n",
      "Generating paths for 2 paths...\n",
      "4266/4267\n",
      "Bad demands for num_paths 2: [('202092675', '160314345#5'), ('-173169611#0', '201956820'), ('315358254#0', '-315358255#4'), ('51857518#1', '32978638#0'), ('266565295#5', '32999435'), ('-315358250#0', '-315358244'), ('128361102#0', '10427692#0'), ('124812856#1', '201956811#0'), ('399835085#1', '-315358254#1'), ('124812856#0', '201956811#0'), ('-30482615#4', '18809673#0'), ('266565295#5', '168702040#1'), ('315358255#0', '-315358254#1'), ('124812856#1', '201956810'), ('124812856#0', '201956810'), ('-32978638#0', '-24608846#0'), ('386687232#0', '136436466'), ('30482614', '30482615#1')]\n",
      "\n",
      "Generating paths for 3 paths...\n",
      "4266/4210\n",
      "Bad demands for num_paths 3: [('-173169611#0', '201956811#0')]\n",
      "\n",
      "Generating paths for 4 paths...\n",
      "4266/4204\n",
      "Bad demands for num_paths 4: []\n",
      "\n",
      "Generating paths for 5 paths...\n",
      "4266/4204\n",
      "Bad demands for num_paths 5: []\n",
      "\n",
      "Overall bad demands: [('399835085#1', '-315358254#1'), ('-173169611#0', '201956811#0'), ('266565295#5', '168702040#1'), ('266565295#5', '32999435'), ('124812856#1', '201956811#0'), ('124812856#0', '201956811#0'), ('202092675', '160314345#5'), ('315358254#0', '-315358255#4'), ('51857518#1', '32978638#0'), ('-315358250#0', '-315358244'), ('124812856#1', '201956810'), ('315358255#0', '-315358254#1'), ('124812856#0', '201956810'), ('-32978638#0', '-24608846#0'), ('30482614', '30482615#1'), ('-173169611#0', '201956820'), ('128361102#0', '10427692#0'), ('-30482615#4', '18809673#0'), ('386687232#0', '136436466')]\n",
      "Deleted 63 trips with bad demand\n"
     ]
    }
   ],
   "source": [
    "bad_demand = set()\n",
    "counter = 0\n",
    "try_up_to_num_paths = 5\n",
    "\n",
    "for num_paths in range(try_up_to_num_paths):\n",
    "    results = route_gen_process(network, df, num_paths+1, timeout=10)\n",
    "    for idx, row in df.iterrows():\n",
    "        if (row[\"origin\"], row[\"destination\"]) in results:\n",
    "            df.drop(idx, inplace=True)       \n",
    "            counter += 1\n",
    "    for d in results:\n",
    "        bad_demand.add(d)\n",
    "     \n",
    "bad_demand = list(bad_demand)\n",
    "print(f\"\\nOverall bad demands: {bad_demand}\")\n",
    "print(f\"Deleted {counter} trips with bad demand\")\n",
    "        \n",
    "# Reset indices\n",
    "df[\"id\"] = [i for i in range(len(df))]\n",
    "df.reset_index(drop=True, inplace=True)"
   ]
  },
  {
   "cell_type": "markdown",
   "metadata": {},
   "source": [
    "# Make demand data in our format"
   ]
  },
  {
   "cell_type": "code",
   "execution_count": 17,
   "metadata": {},
   "outputs": [],
   "source": [
    "origin_indices = {origin_name : idx for idx, origin_name in enumerate(df[\"origin\"].unique())}\n",
    "destination_indices = {destination_name : idx for idx, destination_name in enumerate(df[\"destination\"].unique())}\n",
    "\n",
    "origin_names = {value: key for key, value in origin_indices.items()}\n",
    "destination_names = {value: key for key, value in destination_indices.items()}\n",
    "\n",
    "for idx, row in df.iterrows():\n",
    "    df.at[idx, \"origin\"] = origin_indices[row[\"origin\"]]\n",
    "    df.at[idx, \"destination\"] = destination_indices[row[\"destination\"]]"
   ]
  },
  {
   "cell_type": "markdown",
   "metadata": {},
   "source": [
    "# Have a look"
   ]
  },
  {
   "cell_type": "code",
   "execution_count": 18,
   "metadata": {},
   "outputs": [
    {
     "data": {
      "application/vnd.microsoft.datawrangler.viewer.v0+json": {
       "columns": [
        {
         "name": "index",
         "rawType": "int64",
         "type": "integer"
        },
        {
         "name": "id",
         "rawType": "int64",
         "type": "integer"
        },
        {
         "name": "start_time",
         "rawType": "int64",
         "type": "integer"
        },
        {
         "name": "origin",
         "rawType": "object",
         "type": "unknown"
        },
        {
         "name": "destination",
         "rawType": "object",
         "type": "unknown"
        },
        {
         "name": "kind",
         "rawType": "object",
         "type": "string"
        }
       ],
       "conversionMethod": "pd.DataFrame",
       "ref": "4a80a8d6-2510-4c45-8a3c-85a041c4fee3",
       "rows": [
        [
         "0",
         "0",
         "0",
         "0",
         "0",
         "Human"
        ],
        [
         "1",
         "1",
         "0",
         "1",
         "1",
         "Human"
        ],
        [
         "2",
         "2",
         "2",
         "2",
         "2",
         "Human"
        ],
        [
         "3",
         "3",
         "4",
         "1",
         "3",
         "Human"
        ],
        [
         "4",
         "4",
         "5",
         "3",
         "4",
         "Human"
        ],
        [
         "5",
         "5",
         "5",
         "4",
         "5",
         "Human"
        ],
        [
         "6",
         "6",
         "5",
         "1",
         "1",
         "Human"
        ],
        [
         "7",
         "7",
         "5",
         "5",
         "1",
         "Human"
        ],
        [
         "8",
         "8",
         "8",
         "1",
         "1",
         "Human"
        ],
        [
         "9",
         "9",
         "11",
         "6",
         "6",
         "Human"
        ],
        [
         "10",
         "10",
         "11",
         "4",
         "7",
         "Human"
        ],
        [
         "11",
         "11",
         "11",
         "7",
         "7",
         "Human"
        ],
        [
         "12",
         "12",
         "12",
         "8",
         "7",
         "Human"
        ],
        [
         "13",
         "13",
         "12",
         "1",
         "1",
         "Human"
        ],
        [
         "14",
         "14",
         "13",
         "8",
         "4",
         "Human"
        ],
        [
         "15",
         "15",
         "15",
         "1",
         "1",
         "Human"
        ],
        [
         "16",
         "16",
         "15",
         "8",
         "7",
         "Human"
        ],
        [
         "17",
         "17",
         "16",
         "9",
         "8",
         "Human"
        ],
        [
         "18",
         "18",
         "17",
         "8",
         "7",
         "Human"
        ],
        [
         "19",
         "19",
         "18",
         "1",
         "3",
         "Human"
        ],
        [
         "20",
         "20",
         "21",
         "1",
         "1",
         "Human"
        ],
        [
         "21",
         "21",
         "21",
         "10",
         "0",
         "Human"
        ],
        [
         "22",
         "22",
         "22",
         "1",
         "1",
         "Human"
        ],
        [
         "23",
         "23",
         "23",
         "1",
         "1",
         "Human"
        ],
        [
         "24",
         "24",
         "23",
         "1",
         "1",
         "Human"
        ],
        [
         "25",
         "25",
         "25",
         "11",
         "6",
         "Human"
        ],
        [
         "26",
         "26",
         "25",
         "1",
         "3",
         "Human"
        ],
        [
         "27",
         "27",
         "26",
         "8",
         "7",
         "Human"
        ],
        [
         "28",
         "28",
         "27",
         "1",
         "1",
         "Human"
        ],
        [
         "29",
         "29",
         "28",
         "1",
         "3",
         "Human"
        ],
        [
         "30",
         "30",
         "28",
         "8",
         "7",
         "Human"
        ],
        [
         "31",
         "31",
         "28",
         "1",
         "3",
         "Human"
        ],
        [
         "32",
         "32",
         "30",
         "4",
         "7",
         "Human"
        ],
        [
         "33",
         "33",
         "30",
         "1",
         "1",
         "Human"
        ],
        [
         "34",
         "34",
         "30",
         "1",
         "3",
         "Human"
        ],
        [
         "35",
         "35",
         "31",
         "12",
         "9",
         "Human"
        ],
        [
         "36",
         "36",
         "32",
         "1",
         "1",
         "Human"
        ],
        [
         "37",
         "37",
         "33",
         "1",
         "10",
         "Human"
        ],
        [
         "38",
         "38",
         "33",
         "5",
         "1",
         "Human"
        ],
        [
         "39",
         "39",
         "33",
         "1",
         "3",
         "Human"
        ],
        [
         "40",
         "40",
         "35",
         "13",
         "6",
         "Human"
        ],
        [
         "41",
         "41",
         "35",
         "1",
         "3",
         "Human"
        ],
        [
         "42",
         "42",
         "37",
         "1",
         "1",
         "Human"
        ],
        [
         "43",
         "43",
         "37",
         "8",
         "7",
         "Human"
        ],
        [
         "44",
         "44",
         "37",
         "1",
         "3",
         "Human"
        ],
        [
         "45",
         "45",
         "39",
         "14",
         "11",
         "Human"
        ],
        [
         "46",
         "46",
         "40",
         "1",
         "3",
         "Human"
        ],
        [
         "47",
         "47",
         "40",
         "8",
         "12",
         "Human"
        ],
        [
         "48",
         "48",
         "42",
         "9",
         "8",
         "Human"
        ],
        [
         "49",
         "49",
         "43",
         "1",
         "1",
         "Human"
        ]
       ],
       "shape": {
        "columns": 5,
        "rows": 4204
       }
      },
      "text/html": [
       "<div>\n",
       "<style scoped>\n",
       "    .dataframe tbody tr th:only-of-type {\n",
       "        vertical-align: middle;\n",
       "    }\n",
       "\n",
       "    .dataframe tbody tr th {\n",
       "        vertical-align: top;\n",
       "    }\n",
       "\n",
       "    .dataframe thead th {\n",
       "        text-align: right;\n",
       "    }\n",
       "</style>\n",
       "<table border=\"1\" class=\"dataframe\">\n",
       "  <thead>\n",
       "    <tr style=\"text-align: right;\">\n",
       "      <th></th>\n",
       "      <th>id</th>\n",
       "      <th>start_time</th>\n",
       "      <th>origin</th>\n",
       "      <th>destination</th>\n",
       "      <th>kind</th>\n",
       "    </tr>\n",
       "  </thead>\n",
       "  <tbody>\n",
       "    <tr>\n",
       "      <th>0</th>\n",
       "      <td>0</td>\n",
       "      <td>0</td>\n",
       "      <td>0</td>\n",
       "      <td>0</td>\n",
       "      <td>Human</td>\n",
       "    </tr>\n",
       "    <tr>\n",
       "      <th>1</th>\n",
       "      <td>1</td>\n",
       "      <td>0</td>\n",
       "      <td>1</td>\n",
       "      <td>1</td>\n",
       "      <td>Human</td>\n",
       "    </tr>\n",
       "    <tr>\n",
       "      <th>2</th>\n",
       "      <td>2</td>\n",
       "      <td>2</td>\n",
       "      <td>2</td>\n",
       "      <td>2</td>\n",
       "      <td>Human</td>\n",
       "    </tr>\n",
       "    <tr>\n",
       "      <th>3</th>\n",
       "      <td>3</td>\n",
       "      <td>4</td>\n",
       "      <td>1</td>\n",
       "      <td>3</td>\n",
       "      <td>Human</td>\n",
       "    </tr>\n",
       "    <tr>\n",
       "      <th>4</th>\n",
       "      <td>4</td>\n",
       "      <td>5</td>\n",
       "      <td>3</td>\n",
       "      <td>4</td>\n",
       "      <td>Human</td>\n",
       "    </tr>\n",
       "    <tr>\n",
       "      <th>...</th>\n",
       "      <td>...</td>\n",
       "      <td>...</td>\n",
       "      <td>...</td>\n",
       "      <td>...</td>\n",
       "      <td>...</td>\n",
       "    </tr>\n",
       "    <tr>\n",
       "      <th>4199</th>\n",
       "      <td>4199</td>\n",
       "      <td>3596</td>\n",
       "      <td>4</td>\n",
       "      <td>6</td>\n",
       "      <td>Human</td>\n",
       "    </tr>\n",
       "    <tr>\n",
       "      <th>4200</th>\n",
       "      <td>4200</td>\n",
       "      <td>3598</td>\n",
       "      <td>27</td>\n",
       "      <td>2</td>\n",
       "      <td>Human</td>\n",
       "    </tr>\n",
       "    <tr>\n",
       "      <th>4201</th>\n",
       "      <td>4201</td>\n",
       "      <td>3599</td>\n",
       "      <td>4</td>\n",
       "      <td>6</td>\n",
       "      <td>Human</td>\n",
       "    </tr>\n",
       "    <tr>\n",
       "      <th>4202</th>\n",
       "      <td>4202</td>\n",
       "      <td>3600</td>\n",
       "      <td>2</td>\n",
       "      <td>6</td>\n",
       "      <td>Human</td>\n",
       "    </tr>\n",
       "    <tr>\n",
       "      <th>4203</th>\n",
       "      <td>4203</td>\n",
       "      <td>3600</td>\n",
       "      <td>8</td>\n",
       "      <td>7</td>\n",
       "      <td>Human</td>\n",
       "    </tr>\n",
       "  </tbody>\n",
       "</table>\n",
       "<p>4204 rows × 5 columns</p>\n",
       "</div>"
      ],
      "text/plain": [
       "        id  start_time origin destination   kind\n",
       "0        0           0      0           0  Human\n",
       "1        1           0      1           1  Human\n",
       "2        2           2      2           2  Human\n",
       "3        3           4      1           3  Human\n",
       "4        4           5      3           4  Human\n",
       "...    ...         ...    ...         ...    ...\n",
       "4199  4199        3596      4           6  Human\n",
       "4200  4200        3598     27           2  Human\n",
       "4201  4201        3599      4           6  Human\n",
       "4202  4202        3600      2           6  Human\n",
       "4203  4203        3600      8           7  Human\n",
       "\n",
       "[4204 rows x 5 columns]"
      ]
     },
     "execution_count": 18,
     "metadata": {},
     "output_type": "execute_result"
    }
   ],
   "source": [
    "df"
   ]
  },
  {
   "cell_type": "code",
   "execution_count": 19,
   "metadata": {},
   "outputs": [
    {
     "name": "stdout",
     "output_type": "stream",
     "text": [
      "Agents saved to agents.csv\n"
     ]
    }
   ],
   "source": [
    "df.to_csv(\"agents.csv\", index=False)\n",
    "print(\"Agents saved to agents.csv\")"
   ]
  },
  {
   "cell_type": "code",
   "execution_count": 20,
   "metadata": {},
   "outputs": [
    {
     "name": "stdout",
     "output_type": "stream",
     "text": [
      "Origins:\n",
      "True\n",
      "['201089423#0', '124812856#0', '128361109#1', '315358254#0', '315358244', '10425609#0', '24608844', '315358250#0', '-306240162#1', '128361102#0', '266565295#5', '201201950#1', '201201953#4', '399835085#1', '272042143', '24599188#0.94', '386687232#0', '22716069#0', '24634507', '224892339#0', '315358242#0', '-447569998#1', '-18809673#6', '24693977#1', '-54169231#2', '-26677216#0', '-10427692#1', '-32978638#0', '201950247#3', '-24634510#15', '-26677542#0', '26677213#0', '24634510#0', '176550249#3', '-24634413#2', '-160314345#5', '24634517#1', '18813598#2', '201238726#0.117', '22724699#7', '28319300#3', '22879845', '-399835085#0', '-173169611#0', '-160314345#2', '168702040#1', '24634416', '-24634509#7', '37681425#0', '-137454133#5', '-315358257#0.26', '201201945#0', '286646456#1', '136436468#0', '-25145012#5', '201201935#0', '-24634414#1', '23166741#2', '-24634510#5', '201238719#0', '24634513#0', '40888360#0', '40888354#1', '24634510#1', '-201238724', '24608846#0', '-224892361#8', '54169231#1', '315392062#0', '53396619#4', '-24634510#0', '-201950247#0', '-24634411', '-25117417#1', '176550249#4', '-315358255#4', '-26642362#1', '-30482615#4', '-24634505', '10427692#6', '201950250#1', '201963533#5', '-28111977#6', '26677214#4', '176550249#1', '28111977#8', '-201950263#6', '-24634413#0', '176550249#0', '129379925', '201143840', '-28319300#2', '-22716549#6', '-201089423#1', '-25117391#2', '201201953#0', '-201201945#0', '-136728347#4', '315358242#1', '26677216#3', '-25117391#1', '24634411', '-315358242#0', '-22724699#11', '24634516#1', '24634506#0', '26677214#0', '-26677213#5', '-315392062#4', '25190140#1', '-286646456#2', '315358242#3', '23436553#4', '25149001#4', '26676668', '-40888356#6', '201950263#7', '-201238718#1', '24634517#6', '-24634506#0', '25117391#2', '-10427692#6', '-22690206#1', '-25145014#4', '-137132992#2', '-315358250#0', '-129379925', '-24634510#6', '286646456#0', '10427692#7', '-25187895#0', '-26677416#7', '-26677539', '201950247#7', '-24634517#16', '201950263#0', '201201950#3', '-22716073', '128361109#3', '23525483#7', '201238718#0', '-18809672#6', '-24634417', '379897806', '201201945#3', '-164078530', '53396619#6', '173203413#0', '315358246', '25145014#0', '-24608846#0', '160314346#0', '-24634507', '-24634514#1', '201201953#10', '26677542#1', '-26642363', '-37386279', '24634414#5', '-160314346#0', '-32124743', '23166741#5', '25117391#0', '-40888443', '-224892339#3', '-233675413#0', '224892361#2', '22724699#3', '28319300#0', '-201950263#10', '-24634517#3', '-201201945#6', '-40888351#2', '32395327#0', '-54169231#0', '31860333#0', '31395281', '24634417', '218647954', '201950259#0', '-24634513#5', '201238724', '-170018165#3', '-201950259#6', '26677214#5', '24608845', '24634509#1', '-201238718#0', '18809672#7', '-53396619#3', '160314345#2', '40888359', '-129379918#1', '-24634508', '24634517#13', '160314345#3', '-224892361#6', '201963522#1', '26677540#0', '224251774#1', '22690206#0', '24634511', '26677540#1', '37681424#0', '-40888351#6', '24634413#0', '-201963533#5', '-36962701#1', '23525483#1', '-201950259#3', '-40888350', '-41203916#3', '201201945#1', '-201950247#5', '-23436553#2', '18813598#8', '170018165#2.175', '104010354', '-26642362#5', '-26677417#0', '-22690206#2', '201950259#4', '28361235#0', '-173203413#7', '-201963533#1', '201950247#8', '-315358251#0', '26677216#1', '201963522#0', '201201945#2', '315358253#2', '-26677541', '18813598#7', '-25145014#2', '170425366#0', '23525483#6', '32124637#1', '22690205#3', '201201953#2', '-26677417#1', '-25145012#1', '-224892361#1', '-24634511', '-137454133#0', '-22724699#2', '32021112#0', '201238726#0', '24634517#9', '-18813598#7', '-28111977#9', '-53396619#4', '26677214#3', '204588664#0', '25145012#5', '-36962701#0', '168702039#1', '25145012#3', '-37681424#1', '224892361#3', '173177776#0', '-26677216#4', '-24634415', '-54169231#1', '-138300620#6', '40888354#0', '653473569#3', '-315358253#1', '201201950#4', '-129379920#1', '24634415', '285716192#0', '-24634510#18', '26677541', '-26678225', '26677542#0', '26677216#0', '24634506#2', '-201963533#1.145', '26642362#0', '-25187891', '-137454133#1', '-26677542#1', '-32999434#1', '128906555', '-22690205#1', '-25145013#0', '-233675413#2']\n"
     ]
    }
   ],
   "source": [
    "print(\"Origins:\")\n",
    "keys = [k for k in origin_names.keys()]\n",
    "print(keys == sorted(keys))\n",
    "origins = [origin_names[k] for k in keys]\n",
    "print(origins)"
   ]
  },
  {
   "cell_type": "code",
   "execution_count": 21,
   "metadata": {},
   "outputs": [
    {
     "name": "stdout",
     "output_type": "stream",
     "text": [
      "Destinations:\n",
      "True\n",
      "['-315358244', '-128361102#1', '-315358254#1', '306240162#0', '399835085#1', '-25149001#4', '32978638#0', '386687235', '201956811#0', '-266565295#5', '201238729#3', '24634414#1', '201956820', '18809673#0', '-24634415', '24634517#13', '-26677539', '-24634510#5', '447569997#1', '40888354#0', '30482615#1', '-24634517#17', '-83304175#2', '26677539', '315358242#0', '-24634506#2', '-10427692#3', '24634510#6', '-24634505', '272042145', '201956810', '224892361#3', '-201238724', '26677541', '201238718#0', '-25145014#0', '24634509#1', '-315358242#1', '-315358242#0', '402600768#1', '28319300#3', '-201963533#4', '24608845', '-25190140#1', '137454133#2', '-40888354#2', '-315392062#4', '201201950#1', '40888354#1', '40888356#0', '138300620#0', '-201238718#0', '-22724699#1', '-32395288#1', '-315358251#0', '-25117391#2', '-218647954', '176550249#3', '-201089420#1', '-315358258', '22724699#7', '-24634513#5', '26677214#3', '224892339#0', '24634414#2', '-160314346#0', '201201953#10', '24634510#1', '176550249#4', '28111977#9', '-26642362#1', '-201963522#9', '-315358252#1', '-25145011#0', '-170018165#0', '23166741#5', '4942376', '24634506#2', '-24693977#0', '31860333#1', '26642363', '-28111977#6', '202070434#0', '-160314345#0', '26677214#4', '-23525483#5', '-26677416#1', '28319300#0', '201201945#3', '-25187893', '201238726#0', '24634411', '-24634417', '-32395361#1', '160314345#5', '201950250#1', '-25145012#3', '24634414#3', '-26677213#5', '22716549#0', '25187889', '-24634413#2', '-393420106#1', '-24634521#1', '-201963533#1.145', '-22716072#5', '104010475#0', '-24634414#3', '24634513#0', '-26677216#0', '-24693977#1', '-379510292', '-24634507', '-201963522#3', '-201950247#3', '-24634518#0', '201950247#0', '24634413#1', '201238729#1', '-22716549#6', '28111977#0', '24634511', '40888359', '170018165#2', '-24634411', '51857516#1', '32999110#0', '201201953#12', '-201201945#0', '-129379918#1', '201089423#2', '-170018165#3', '-24634517#7', '-26677542#1', '-28319300#2', '201950247#6', '-201238718#1', '53396619#3', '201950250#2', '-201201945#0.78', '24634507', '26677213#0', '-201950247#5', '129379968', '-23436553#2', '-315358246', '-24634413#0', '315358255#0', '653473569#1', '24634510#7', '-201201945#8', '201950263#0', '315358246', '201950263#7', '25117417#1', '-24634506#0', '-22724699#2', '-26677416#7', '-22724699#11', '201963522#6', '173203413#0', '653473569#0', '-40888351#0', '-136436468#0', '-136728347#4', '-24634517#16', '-54169231#2', '-10427692#7', '-24634510#18', '-129379921#1', '-612075153#0', '-40888350', '201950259#0', '-201950259#6', '612075153#0', '315392062#0', '201950250#0', '-22690205#3', '22724699#2', '129379922', '224251774#1', '-224892339#3', '24634508', '-26677540#1', '-138300620#6', '-201950263#6', '173177776#0', '26677542#1', '-25117391#1', '-24634510#6', '-25187895#1', '-160314346#1', '24634517#1', '-201950263#10', '-22690206#1', '-653473569#4', '160314346#0', '23525483#1', '-53396619#2', '40888354#2', '-26677417#0', '-32999434#1', '-24634508', '-24634514#1', '10427692#0', '-201950247#7', '129379967#0', '315358257#0', '-315358248#1', '-24634506#1', '24634509#0', '201238724', '26677540#2', '286646456#1', '-224892361#6', '22724699#3', '136436468#1', '-129379922', '-24634414#2', '-24634414#5', '160314345#1', '-201950259#3', '204588664#0', '306431419', '25145013#1', '-25187896', '315358245.27', '-286646456#2', '286646456#0', '160314345#2', '315358242#3', '-40888354#0', '26677416#3', '-173203413#7', '-233675413#8', '-315358257#2', '-286646456#0', '-26676668', '23436553#2']\n"
     ]
    }
   ],
   "source": [
    "print(\"Destinations:\")\n",
    "keys = [k for k in destination_names.keys()]\n",
    "print(keys == sorted(keys))\n",
    "destinations = [destination_names[k] for k in keys]\n",
    "print(destinations)"
   ]
  }
 ],
 "metadata": {
  "kernelspec": {
   "display_name": "venv",
   "language": "python",
   "name": "python3"
  },
  "language_info": {
   "codemirror_mode": {
    "name": "ipython",
    "version": 3
   },
   "file_extension": ".py",
   "mimetype": "text/x-python",
   "name": "python",
   "nbconvert_exporter": "python",
   "pygments_lexer": "ipython3",
   "version": "3.9.6"
  }
 },
 "nbformat": 4,
 "nbformat_minor": 2
}
